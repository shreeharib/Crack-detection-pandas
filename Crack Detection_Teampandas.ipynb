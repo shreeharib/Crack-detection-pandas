{
 "cells": [
  {
   "cell_type": "code",
   "execution_count": 130,
   "id": "3e844148",
   "metadata": {},
   "outputs": [],
   "source": [
    "from tensorflow.keras.layers import Input, Lambda, Dense, Flatten,Conv2D\n",
    "from tensorflow.keras.models import Model\n",
    "from tensorflow.keras.applications.vgg19 import VGG19\n",
    "from tensorflow.keras.applications.resnet50 import preprocess_input\n",
    "from tensorflow.keras.preprocessing import image\n",
    "from tensorflow.keras.preprocessing.image import ImageDataGenerator,load_img,img_to_array\n",
    "from tensorflow.keras.models import Sequential\n",
    "import numpy as np\n",
    "from glob import glob\n",
    "import matplotlib.pyplot as plt"
   ]
  },
  {
   "cell_type": "code",
   "execution_count": 29,
   "id": "23a0c271",
   "metadata": {},
   "outputs": [],
   "source": [
    "IMAGE_SIZE=[224,224]"
   ]
  },
  {
   "cell_type": "code",
   "execution_count": 30,
   "id": "b9737492",
   "metadata": {},
   "outputs": [],
   "source": [
    "train_path=\"F:\\crackdetection\\train\"\n",
    "test_path=\"F:\\crackdetection\\test\""
   ]
  },
  {
   "cell_type": "code",
   "execution_count": 31,
   "id": "4b9d20ec",
   "metadata": {},
   "outputs": [],
   "source": [
    "mobilnet = VGG19(input_shape=IMAGE_SIZE + [3], weights='imagenet', include_top=False)"
   ]
  },
  {
   "cell_type": "code",
   "execution_count": 32,
   "id": "451f1f88",
   "metadata": {},
   "outputs": [],
   "source": [
    "# don't train existing weights\n",
    "for layer in mobilnet.layers:\n",
    "    layer.trainable = False"
   ]
  },
  {
   "cell_type": "code",
   "execution_count": 53,
   "id": "f9fef55c",
   "metadata": {},
   "outputs": [],
   "source": [
    "  # useful for getting number of output classes\n",
    "folders = glob(\"F:/crackdetection/train/*\")"
   ]
  },
  {
   "cell_type": "code",
   "execution_count": 54,
   "id": "e7743657",
   "metadata": {},
   "outputs": [
    {
     "data": {
      "text/plain": [
       "2"
      ]
     },
     "execution_count": 54,
     "metadata": {},
     "output_type": "execute_result"
    }
   ],
   "source": [
    "len(folders)"
   ]
  },
  {
   "cell_type": "code",
   "execution_count": 55,
   "id": "f847d775",
   "metadata": {},
   "outputs": [],
   "source": [
    "# our layers - you can add more if you want\n",
    "x = Flatten()(mobilnet.output)"
   ]
  },
  {
   "cell_type": "code",
   "execution_count": 57,
   "id": "19b9793d",
   "metadata": {},
   "outputs": [],
   "source": [
    "prediction = Dense(len(folders), activation='softmax')(x)\n",
    "\n",
    "# create a model object\n",
    "model = Model(inputs=mobilnet.input, outputs=prediction)"
   ]
  },
  {
   "cell_type": "code",
   "execution_count": 58,
   "id": "4db445f9",
   "metadata": {},
   "outputs": [
    {
     "name": "stdout",
     "output_type": "stream",
     "text": [
      "Model: \"model_2\"\n",
      "_________________________________________________________________\n",
      " Layer (type)                Output Shape              Param #   \n",
      "=================================================================\n",
      " input_2 (InputLayer)        [(None, 224, 224, 3)]     0         \n",
      "                                                                 \n",
      " block1_conv1 (Conv2D)       (None, 224, 224, 64)      1792      \n",
      "                                                                 \n",
      " block1_conv2 (Conv2D)       (None, 224, 224, 64)      36928     \n",
      "                                                                 \n",
      " block1_pool (MaxPooling2D)  (None, 112, 112, 64)      0         \n",
      "                                                                 \n",
      " block2_conv1 (Conv2D)       (None, 112, 112, 128)     73856     \n",
      "                                                                 \n",
      " block2_conv2 (Conv2D)       (None, 112, 112, 128)     147584    \n",
      "                                                                 \n",
      " block2_pool (MaxPooling2D)  (None, 56, 56, 128)       0         \n",
      "                                                                 \n",
      " block3_conv1 (Conv2D)       (None, 56, 56, 256)       295168    \n",
      "                                                                 \n",
      " block3_conv2 (Conv2D)       (None, 56, 56, 256)       590080    \n",
      "                                                                 \n",
      " block3_conv3 (Conv2D)       (None, 56, 56, 256)       590080    \n",
      "                                                                 \n",
      " block3_conv4 (Conv2D)       (None, 56, 56, 256)       590080    \n",
      "                                                                 \n",
      " block3_pool (MaxPooling2D)  (None, 28, 28, 256)       0         \n",
      "                                                                 \n",
      " block4_conv1 (Conv2D)       (None, 28, 28, 512)       1180160   \n",
      "                                                                 \n",
      " block4_conv2 (Conv2D)       (None, 28, 28, 512)       2359808   \n",
      "                                                                 \n",
      " block4_conv3 (Conv2D)       (None, 28, 28, 512)       2359808   \n",
      "                                                                 \n",
      " block4_conv4 (Conv2D)       (None, 28, 28, 512)       2359808   \n",
      "                                                                 \n",
      " block4_pool (MaxPooling2D)  (None, 14, 14, 512)       0         \n",
      "                                                                 \n",
      " block5_conv1 (Conv2D)       (None, 14, 14, 512)       2359808   \n",
      "                                                                 \n",
      " block5_conv2 (Conv2D)       (None, 14, 14, 512)       2359808   \n",
      "                                                                 \n",
      " block5_conv3 (Conv2D)       (None, 14, 14, 512)       2359808   \n",
      "                                                                 \n",
      " block5_conv4 (Conv2D)       (None, 14, 14, 512)       2359808   \n",
      "                                                                 \n",
      " block5_pool (MaxPooling2D)  (None, 7, 7, 512)         0         \n",
      "                                                                 \n",
      " flatten_3 (Flatten)         (None, 25088)             0         \n",
      "                                                                 \n",
      " dense_5 (Dense)             (None, 2)                 50178     \n",
      "                                                                 \n",
      "=================================================================\n",
      "Total params: 20,074,562\n",
      "Trainable params: 50,178\n",
      "Non-trainable params: 20,024,384\n",
      "_________________________________________________________________\n"
     ]
    }
   ],
   "source": [
    "model.summary()"
   ]
  },
  {
   "cell_type": "code",
   "execution_count": 59,
   "id": "9dabea0e",
   "metadata": {},
   "outputs": [],
   "source": [
    "from tensorflow.keras.layers import MaxPooling2D"
   ]
  },
  {
   "cell_type": "code",
   "execution_count": 60,
   "id": "4b1e8c27",
   "metadata": {},
   "outputs": [
    {
     "name": "stdout",
     "output_type": "stream",
     "text": [
      "Model: \"sequential_2\"\n",
      "_________________________________________________________________\n",
      " Layer (type)                Output Shape              Param #   \n",
      "=================================================================\n",
      " conv2d_3 (Conv2D)           (None, 224, 224, 16)      208       \n",
      "                                                                 \n",
      " max_pooling2d_3 (MaxPooling  (None, 112, 112, 16)     0         \n",
      " 2D)                                                             \n",
      "                                                                 \n",
      " conv2d_4 (Conv2D)           (None, 112, 112, 32)      2080      \n",
      "                                                                 \n",
      " max_pooling2d_4 (MaxPooling  (None, 56, 56, 32)       0         \n",
      " 2D)                                                             \n",
      "                                                                 \n",
      " conv2d_5 (Conv2D)           (None, 56, 56, 64)        8256      \n",
      "                                                                 \n",
      " max_pooling2d_5 (MaxPooling  (None, 28, 28, 64)       0         \n",
      " 2D)                                                             \n",
      "                                                                 \n",
      " flatten_4 (Flatten)         (None, 50176)             0         \n",
      "                                                                 \n",
      " dense_6 (Dense)             (None, 500)               25088500  \n",
      "                                                                 \n",
      " dense_7 (Dense)             (None, 2)                 1002      \n",
      "                                                                 \n",
      "=================================================================\n",
      "Total params: 25,100,046\n",
      "Trainable params: 25,100,046\n",
      "Non-trainable params: 0\n",
      "_________________________________________________________________\n"
     ]
    }
   ],
   "source": [
    "### Create Model from scratch using CNN\n",
    "model=Sequential()\n",
    "model.add(Conv2D(filters=16,kernel_size=2,padding=\"same\",activation=\"relu\",input_shape=(224,224,3)))\n",
    "model.add(MaxPooling2D(pool_size=2))\n",
    "model.add(Conv2D(filters=32,kernel_size=2,padding=\"same\",activation =\"relu\"))\n",
    "model.add(MaxPooling2D(pool_size=2))\n",
    "model.add(Conv2D(filters=64,kernel_size=2,padding=\"same\",activation=\"relu\"))\n",
    "model.add(MaxPooling2D(pool_size=2))\n",
    "model.add(Flatten())\n",
    "model.add(Dense(500,activation=\"relu\"))\n",
    "model.add(Dense(2,activation=\"softmax\"))\n",
    "model.summary()"
   ]
  },
  {
   "cell_type": "code",
   "execution_count": 61,
   "id": "e21cba9c",
   "metadata": {},
   "outputs": [],
   "source": [
    "# tell the model what cost and optimization method to use\n",
    "model.compile(\n",
    "  loss='categorical_crossentropy',\n",
    "  optimizer='adam',\n",
    "  metrics=['accuracy']\n",
    ")"
   ]
  },
  {
   "cell_type": "code",
   "execution_count": 62,
   "id": "50e7761b",
   "metadata": {},
   "outputs": [],
   "source": [
    "# Use the Image Data Generator to import the images from the dataset\n",
    "from tensorflow.keras.preprocessing.image import ImageDataGenerator\n",
    "\n",
    "train_datagen = ImageDataGenerator(rescale = 1./255,\n",
    "                                   shear_range = 0.2,\n",
    "                                   zoom_range = 0.2,\n",
    "                                   horizontal_flip = True)\n",
    "\n",
    "test_datagen = ImageDataGenerator(rescale = 1./255)"
   ]
  },
  {
   "cell_type": "code",
   "execution_count": 63,
   "id": "6436aa92",
   "metadata": {},
   "outputs": [
    {
     "name": "stdout",
     "output_type": "stream",
     "text": [
      "Found 600 images belonging to 2 classes.\n"
     ]
    }
   ],
   "source": [
    "# Make sure you provide the same target size as initialied for the image size\n",
    "training_set = train_datagen.flow_from_directory('F:/crackdetection/train',\n",
    "                                                 target_size = (224, 224),\n",
    "                                                 batch_size = 32,\n",
    "                                                 class_mode = 'categorical')"
   ]
  },
  {
   "cell_type": "code",
   "execution_count": 64,
   "id": "57b2a60a",
   "metadata": {},
   "outputs": [
    {
     "data": {
      "text/plain": [
       "<keras.preprocessing.image.DirectoryIterator at 0x2b0c53b85b0>"
      ]
     },
     "execution_count": 64,
     "metadata": {},
     "output_type": "execute_result"
    }
   ],
   "source": [
    "training_set"
   ]
  },
  {
   "cell_type": "code",
   "execution_count": 66,
   "id": "6b20d11a",
   "metadata": {},
   "outputs": [
    {
     "name": "stdout",
     "output_type": "stream",
     "text": [
      "Found 200 images belonging to 2 classes.\n"
     ]
    }
   ],
   "source": [
    "test_set = test_datagen.flow_from_directory('F:/crackdetection/test',\n",
    "                                            target_size = (224, 224),\n",
    "                                            batch_size = 32,\n",
    "                                            class_mode = 'categorical')"
   ]
  },
  {
   "cell_type": "code",
   "execution_count": 68,
   "id": "f4223806",
   "metadata": {},
   "outputs": [
    {
     "name": "stderr",
     "output_type": "stream",
     "text": [
      "C:\\Users\\B SHREE HARI\\AppData\\Local\\Temp\\ipykernel_15224\\4102162479.py:3: UserWarning: `Model.fit_generator` is deprecated and will be removed in a future version. Please use `Model.fit`, which supports generators.\n",
      "  r = model.fit_generator(\n"
     ]
    },
    {
     "name": "stdout",
     "output_type": "stream",
     "text": [
      "Epoch 1/50\n",
      "19/19 [==============================] - 26s 1s/step - loss: 1.2631 - accuracy: 0.5000 - val_loss: 0.7051 - val_accuracy: 0.5000\n",
      "Epoch 2/50\n",
      "19/19 [==============================] - 18s 930ms/step - loss: 0.6523 - accuracy: 0.6200 - val_loss: 0.6492 - val_accuracy: 0.7550\n",
      "Epoch 3/50\n",
      "19/19 [==============================] - 20s 1s/step - loss: 0.4992 - accuracy: 0.7850 - val_loss: 0.6383 - val_accuracy: 0.7350\n",
      "Epoch 4/50\n",
      "19/19 [==============================] - 19s 1s/step - loss: 0.4043 - accuracy: 0.8333 - val_loss: 0.6264 - val_accuracy: 0.6850\n",
      "Epoch 5/50\n",
      "19/19 [==============================] - 18s 947ms/step - loss: 0.3885 - accuracy: 0.8483 - val_loss: 0.6150 - val_accuracy: 0.6550\n",
      "Epoch 6/50\n",
      "19/19 [==============================] - 18s 971ms/step - loss: 0.3679 - accuracy: 0.8550 - val_loss: 0.6274 - val_accuracy: 0.6700\n",
      "Epoch 7/50\n",
      "19/19 [==============================] - 19s 979ms/step - loss: 0.3619 - accuracy: 0.8683 - val_loss: 0.5629 - val_accuracy: 0.7000\n",
      "Epoch 8/50\n",
      "19/19 [==============================] - 18s 944ms/step - loss: 0.3558 - accuracy: 0.8683 - val_loss: 0.7122 - val_accuracy: 0.5500\n",
      "Epoch 9/50\n",
      "19/19 [==============================] - 19s 966ms/step - loss: 0.3314 - accuracy: 0.8683 - val_loss: 0.6000 - val_accuracy: 0.7050\n",
      "Epoch 10/50\n",
      "19/19 [==============================] - 20s 1s/step - loss: 0.3470 - accuracy: 0.8700 - val_loss: 0.6736 - val_accuracy: 0.5950\n",
      "Epoch 11/50\n",
      "19/19 [==============================] - 22s 1s/step - loss: 0.3309 - accuracy: 0.8800 - val_loss: 0.6586 - val_accuracy: 0.6200\n",
      "Epoch 12/50\n",
      "19/19 [==============================] - 19s 976ms/step - loss: 0.3001 - accuracy: 0.8917 - val_loss: 0.6642 - val_accuracy: 0.6250\n",
      "Epoch 13/50\n",
      "19/19 [==============================] - 20s 1s/step - loss: 0.3255 - accuracy: 0.8900 - val_loss: 0.5833 - val_accuracy: 0.6750\n",
      "Epoch 14/50\n",
      "19/19 [==============================] - 19s 982ms/step - loss: 0.2784 - accuracy: 0.9033 - val_loss: 0.6173 - val_accuracy: 0.6750\n",
      "Epoch 15/50\n",
      "19/19 [==============================] - 19s 974ms/step - loss: 0.2551 - accuracy: 0.9100 - val_loss: 0.6033 - val_accuracy: 0.6850\n",
      "Epoch 16/50\n",
      "19/19 [==============================] - 19s 1s/step - loss: 0.2339 - accuracy: 0.9117 - val_loss: 0.6334 - val_accuracy: 0.6800\n",
      "Epoch 17/50\n",
      "19/19 [==============================] - 19s 996ms/step - loss: 0.2782 - accuracy: 0.8950 - val_loss: 0.6633 - val_accuracy: 0.6250\n",
      "Epoch 18/50\n",
      "19/19 [==============================] - 19s 984ms/step - loss: 0.2746 - accuracy: 0.9217 - val_loss: 0.5936 - val_accuracy: 0.7000\n",
      "Epoch 19/50\n",
      "19/19 [==============================] - 19s 971ms/step - loss: 0.2339 - accuracy: 0.9150 - val_loss: 0.5416 - val_accuracy: 0.7150\n",
      "Epoch 20/50\n",
      "19/19 [==============================] - 18s 944ms/step - loss: 0.2251 - accuracy: 0.9200 - val_loss: 0.6576 - val_accuracy: 0.6550\n",
      "Epoch 21/50\n",
      "19/19 [==============================] - 18s 929ms/step - loss: 0.1980 - accuracy: 0.9383 - val_loss: 0.7036 - val_accuracy: 0.7000\n",
      "Epoch 22/50\n",
      "19/19 [==============================] - 18s 958ms/step - loss: 0.2004 - accuracy: 0.9233 - val_loss: 0.5569 - val_accuracy: 0.7050\n",
      "Epoch 23/50\n",
      "19/19 [==============================] - 18s 925ms/step - loss: 0.1477 - accuracy: 0.9533 - val_loss: 0.5297 - val_accuracy: 0.7750\n",
      "Epoch 24/50\n",
      "19/19 [==============================] - 18s 939ms/step - loss: 0.2294 - accuracy: 0.9250 - val_loss: 0.6757 - val_accuracy: 0.7100\n",
      "Epoch 25/50\n",
      "19/19 [==============================] - 18s 921ms/step - loss: 0.1943 - accuracy: 0.9450 - val_loss: 0.5714 - val_accuracy: 0.7200\n",
      "Epoch 26/50\n",
      "19/19 [==============================] - 23s 1s/step - loss: 0.1777 - accuracy: 0.9367 - val_loss: 0.5063 - val_accuracy: 0.7550\n",
      "Epoch 27/50\n",
      "19/19 [==============================] - 26s 1s/step - loss: 0.1559 - accuracy: 0.9417 - val_loss: 0.4040 - val_accuracy: 0.8150\n",
      "Epoch 28/50\n",
      "19/19 [==============================] - 26s 1s/step - loss: 0.1723 - accuracy: 0.9417 - val_loss: 0.5489 - val_accuracy: 0.7350\n",
      "Epoch 29/50\n",
      "19/19 [==============================] - 26s 1s/step - loss: 0.1590 - accuracy: 0.9400 - val_loss: 0.5247 - val_accuracy: 0.7700\n",
      "Epoch 30/50\n",
      "19/19 [==============================] - 26s 1s/step - loss: 0.1348 - accuracy: 0.9533 - val_loss: 0.4202 - val_accuracy: 0.8050\n",
      "Epoch 31/50\n",
      "19/19 [==============================] - 26s 1s/step - loss: 0.1670 - accuracy: 0.9483 - val_loss: 0.7789 - val_accuracy: 0.6950\n",
      "Epoch 32/50\n",
      "19/19 [==============================] - 30s 2s/step - loss: 0.1784 - accuracy: 0.9450 - val_loss: 0.5560 - val_accuracy: 0.7750\n",
      "Epoch 33/50\n",
      "19/19 [==============================] - 27s 1s/step - loss: 0.1669 - accuracy: 0.9517 - val_loss: 0.6864 - val_accuracy: 0.6650\n",
      "Epoch 34/50\n",
      "19/19 [==============================] - 26s 1s/step - loss: 0.1523 - accuracy: 0.9467 - val_loss: 0.5972 - val_accuracy: 0.7550\n",
      "Epoch 35/50\n",
      "19/19 [==============================] - 26s 1s/step - loss: 0.1147 - accuracy: 0.9617 - val_loss: 0.4267 - val_accuracy: 0.8500\n",
      "Epoch 36/50\n",
      "19/19 [==============================] - 27s 1s/step - loss: 0.0953 - accuracy: 0.9683 - val_loss: 0.5712 - val_accuracy: 0.7750\n",
      "Epoch 37/50\n",
      "19/19 [==============================] - 27s 1s/step - loss: 0.1050 - accuracy: 0.9583 - val_loss: 0.6861 - val_accuracy: 0.7750\n",
      "Epoch 38/50\n",
      "19/19 [==============================] - 27s 1s/step - loss: 0.1449 - accuracy: 0.9467 - val_loss: 0.5248 - val_accuracy: 0.7700\n",
      "Epoch 39/50\n",
      "19/19 [==============================] - 27s 1s/step - loss: 0.1361 - accuracy: 0.9517 - val_loss: 0.4064 - val_accuracy: 0.8200\n",
      "Epoch 40/50\n",
      "19/19 [==============================] - 26s 1s/step - loss: 0.0960 - accuracy: 0.9667 - val_loss: 0.4471 - val_accuracy: 0.8050\n",
      "Epoch 41/50\n",
      "19/19 [==============================] - 26s 1s/step - loss: 0.1203 - accuracy: 0.9567 - val_loss: 0.4044 - val_accuracy: 0.8200\n",
      "Epoch 42/50\n",
      "19/19 [==============================] - 26s 1s/step - loss: 0.0865 - accuracy: 0.9783 - val_loss: 0.5837 - val_accuracy: 0.7800\n",
      "Epoch 43/50\n",
      "19/19 [==============================] - 26s 1s/step - loss: 0.0920 - accuracy: 0.9650 - val_loss: 0.5009 - val_accuracy: 0.7700\n",
      "Epoch 44/50\n",
      "19/19 [==============================] - 21s 1s/step - loss: 0.0879 - accuracy: 0.9717 - val_loss: 0.6702 - val_accuracy: 0.7550\n",
      "Epoch 45/50\n",
      "19/19 [==============================] - 15s 767ms/step - loss: 0.1453 - accuracy: 0.9533 - val_loss: 0.7017 - val_accuracy: 0.7200\n",
      "Epoch 46/50\n",
      "19/19 [==============================] - 21s 1s/step - loss: 0.0731 - accuracy: 0.9750 - val_loss: 0.4819 - val_accuracy: 0.7850\n",
      "Epoch 47/50\n",
      "19/19 [==============================] - 19s 976ms/step - loss: 0.0548 - accuracy: 0.9867 - val_loss: 0.4453 - val_accuracy: 0.8350\n",
      "Epoch 48/50\n",
      "19/19 [==============================] - 18s 920ms/step - loss: 0.0808 - accuracy: 0.9717 - val_loss: 0.8663 - val_accuracy: 0.7300\n",
      "Epoch 49/50\n",
      "19/19 [==============================] - 18s 947ms/step - loss: 0.1110 - accuracy: 0.9667 - val_loss: 0.3809 - val_accuracy: 0.8450\n",
      "Epoch 50/50\n",
      "19/19 [==============================] - 18s 964ms/step - loss: 0.1154 - accuracy: 0.9567 - val_loss: 0.3048 - val_accuracy: 0.8750\n"
     ]
    }
   ],
   "source": [
    "# fit the model\n",
    "# Run the cell. It will take some time to execute\n",
    "r = model.fit_generator(\n",
    "  training_set,\n",
    "  validation_data=test_set,\n",
    "  epochs=50,\n",
    "  steps_per_epoch=len(training_set),\n",
    "  validation_steps=len(test_set)\n",
    ")"
   ]
  },
  {
   "cell_type": "code",
   "execution_count": 69,
   "id": "bbac17bc",
   "metadata": {},
   "outputs": [
    {
     "data": {
      "image/png": "[encoded data removed]",
      "text/plain": [
       "<Figure size 640x480 with 1 Axes>"
      ]
     },
     "metadata": {},
     "output_type": "display_data"
    },
    {
     "data": {
      "image/png": "[encoded data removed]",
      "text/plain": [
       "<Figure size 640x480 with 1 Axes>"
      ]
     },
     "metadata": {},
     "output_type": "display_data"
    },
    {
     "data": {
      "text/plain": [
       "<Figure size 640x480 with 0 Axes>"
      ]
     },
     "metadata": {},
     "output_type": "display_data"
    }
   ],
   "source": [
    "# plot the loss\n",
    "plt.plot(r.history['loss'], label='train loss')\n",
    "plt.plot(r.history['val_loss'], label='val loss')\n",
    "plt.legend()\n",
    "plt.show()\n",
    "plt.savefig('LossVal_loss')\n",
    "\n",
    "# plot the accuracy\n",
    "plt.plot(r.history['accuracy'], label='train acc')\n",
    "plt.plot(r.history['val_accuracy'], label='val acc')\n",
    "plt.legend()\n",
    "plt.show()\n",
    "plt.savefig('AccVal_acc')"
   ]
  },
  {
   "cell_type": "code",
   "execution_count": 70,
   "id": "da30203b",
   "metadata": {},
   "outputs": [],
   "source": [
    "# save it as a h5 file\n",
    "\n",
    "\n",
    "from tensorflow.keras.models import load_model\n",
    "\n",
    "model.save('model_vgg19.h5')"
   ]
  },
  {
   "cell_type": "code",
   "execution_count": 71,
   "id": "ac0b13be",
   "metadata": {},
   "outputs": [
    {
     "name": "stdout",
     "output_type": "stream",
     "text": [
      "7/7 [==============================] - 1s 125ms/step\n"
     ]
    }
   ],
   "source": [
    "y_pred = model.predict(test_set)"
   ]
  },
  {
   "cell_type": "code",
   "execution_count": 72,
   "id": "e9e0e6e3",
   "metadata": {},
   "outputs": [],
   "source": [
    "from tensorflow.keras.models import load_model\n",
    "from tensorflow.keras.preprocessing import image"
   ]
  },
  {
   "cell_type": "code",
   "execution_count": 132,
   "id": "d6944e13",
   "metadata": {},
   "outputs": [],
   "source": [
    "model=load_model('model_vgg19.h5')"
   ]
  },
  {
   "cell_type": "code",
   "execution_count": 135,
   "id": "6d31410a",
   "metadata": {},
   "outputs": [
    {
     "name": "stdout",
     "output_type": "stream",
     "text": [
      "1/1 [==============================] - 0s 57ms/step\n"
     ]
    }
   ],
   "source": [
    "image = load_img('F:/crackdetection/valid/Positive/IMG_9163_7_10.jpg', target_size=(224, 224))\n",
    "# convert the image pixels to a numpy array\n",
    "image = img_to_array(image)\n",
    "# reshape data for the model\n",
    "image = image.reshape((1, image.shape[0], image.shape[1], image.shape[2]))\n",
    "# prepare the image for the VGG model\n",
    "image = preprocess_input(image)\n",
    "yhat = model.predict(image)"
   ]
  },
  {
   "cell_type": "code",
   "execution_count": 140,
   "id": "ef56dd56",
   "metadata": {},
   "outputs": [
    {
     "data": {
      "text/plain": [
       "array([[0., 1.]], dtype=float32)"
      ]
     },
     "execution_count": 140,
     "metadata": {},
     "output_type": "execute_result"
    }
   ],
   "source": [
    "yhat"
   ]
  },
  {
   "cell_type": "code",
   "execution_count": null,
   "id": "15c8642a",
   "metadata": {},
   "outputs": [],
   "source": []
  }
 ],
 "metadata": {
  "kernelspec": {
   "display_name": "Python 3 (ipykernel)",
   "language": "python",
   "name": "python3"
  },
  "language_info": {
   "codemirror_mode": {
    "name": "ipython",
    "version": 3
   },
   "file_extension": ".py",
   "mimetype": "text/x-python",
   "name": "python",
   "nbconvert_exporter": "python",
   "pygments_lexer": "ipython3",
   "version": "3.9.7"
  }
 },
 "nbformat": 4,
 "nbformat_minor": 5
}
